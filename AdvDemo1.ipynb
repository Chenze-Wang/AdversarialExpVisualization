{
 "cells": [
  {
   "cell_type": "code",
   "execution_count": 1,
   "id": "6faa7a40",
   "metadata": {},
   "outputs": [],
   "source": [
    "import numpy as np\n",
    "import matplotlib as mpl\n",
    "from matplotlib import pyplot as plt\n",
    "\n",
    "from torch.utils.data import Dataset,DataLoader,sampler\n",
    "import torch\n",
    "import torch.nn as nn\n",
    "import torch.optim as optim\n",
    "import torch.nn.functional as F"
   ]
  },
  {
   "cell_type": "code",
   "execution_count": 2,
   "id": "e5f66cf9",
   "metadata": {},
   "outputs": [],
   "source": [
    "# number of the total size of the data set\n",
    "# this number is intentionally set to be small for the convenience of visualization\n",
    "# feel free to try bigger ones, the results would be similar\n",
    "N=40 \n",
    "sigma=0.4 # sigma of the gaussian distribution, tweak this value to adjust the mixing level of the two classes\n",
    "\n",
    "#label 0\n",
    "l1=np.random.randn(2,N//2)*sigma+1\n",
    "#label 1\n",
    "l2=np.random.randn(2,N//2)*sigma"
   ]
  },
  {
   "cell_type": "code",
   "execution_count": 3,
   "id": "8be3e9d5",
   "metadata": {},
   "outputs": [
    {
     "data": {
      "image/png": "[encoded data removed]",
      "text/plain": [
       "<Figure size 288x288 with 1 Axes>"
      ]
     },
     "metadata": {
      "needs_background": "light"
     },
     "output_type": "display_data"
    }
   ],
   "source": [
    "# visualize the data set\n",
    "fig_dataset=plt.figure(figsize=(4,4))\n",
    "plt.scatter(l1[0],l1[1],marker='o',label='class 0')\n",
    "plt.scatter(l2[0],l2[1],marker='v',label='class 1')\n",
    "plt.legend()\n",
    "plt.xlabel('x')\n",
    "plt.ylabel('y')\n",
    "plt.axis('equal')\n",
    "plt.show()"
   ]
  },
  {
   "cell_type": "code",
   "execution_count": null,
   "id": "5f4bfb32",
   "metadata": {},
   "outputs": [],
   "source": [
    "# save figure if needed\n",
    "fig_dataset.savefig('./fig_dataset.jpg')"
   ]
  },
  {
   "cell_type": "code",
   "execution_count": 4,
   "id": "6d253f84",
   "metadata": {},
   "outputs": [],
   "source": [
    "# Dataset class for torch to work\n",
    "class Dset(Dataset):\n",
    "    def __init__(self,sample,label):\n",
    "        super().__init__()\n",
    "        self.sample=sample\n",
    "        self.label=label\n",
    "        \n",
    "    def __getitem__(self,i):\n",
    "        return self.sample[i],self.label[i]\n",
    "    \n",
    "    def __len__(self):\n",
    "        return len(self.label)\n",
    "    \n",
    "    def __iter__(self):\n",
    "        N=len(self)\n",
    "        for i in range(N):\n",
    "            yield self.sample[i],self.label[i]"
   ]
  },
  {
   "cell_type": "code",
   "execution_count": 5,
   "id": "c3f6d76a",
   "metadata": {},
   "outputs": [],
   "source": [
    "dataset=Dset(torch.tensor(np.hstack([l1,l2]),dtype=torch.float32).T,\n",
    "             torch.from_numpy(np.hstack([np.zeros((N//2,),dtype=np.int64),np.ones((N//2,),dtype=np.int32)])))\n",
    "setloader=DataLoader(dataset,batch_size=10,sampler=sampler.SubsetRandomSampler(range(len(dataset))))"
   ]
  },
  {
   "cell_type": "code",
   "execution_count": null,
   "id": "fa2639c2",
   "metadata": {},
   "outputs": [],
   "source": [
    "###############################################\n",
    "# Be CAREFUL of overwritting saved dataset!!!!#\n",
    "###############################################\n",
    "\n",
    "# save the data set\n",
    "# torch.save(dataset,'./Torch_dataset.pkl')\n",
    "# torch.save(setloader,'./Torch_loader.pkl')\n",
    "\n",
    "# read the data set from save\n",
    "dataset=torch.load('./Torch_dataset.pkl')\n",
    "setloader=torch.load('./Torch_loader.pkl')"
   ]
  },
  {
   "cell_type": "code",
   "execution_count": 6,
   "id": "2b000c6b",
   "metadata": {},
   "outputs": [],
   "source": [
    "# generate a depth n NN classifier\n",
    "def classifierNN(n):\n",
    "    if (n>=2) and (n%2==0):\n",
    "        dims=[2**(i+1) for i in range(n//2+1)]\n",
    "        dims+=dims[0:-1][::-1]\n",
    "    else:\n",
    "        print('Input depth n should be even')\n",
    "        return None\n",
    "    layers=[]\n",
    "    for t in range(len(dims)-1):\n",
    "        i,o=dims[t:t+2]\n",
    "        layers.append(nn.Linear(i,o))\n",
    "        if not (t==len(dims)-2):\n",
    "            layers.append(nn.ReLU())\n",
    "    return nn.Sequential(*layers)"
   ]
  },
  {
   "cell_type": "code",
   "execution_count": 7,
   "id": "9f2a9da4",
   "metadata": {},
   "outputs": [],
   "source": [
    "def train(model,loader,limit=1e-2,lr=1e-3,print_loss=False):\n",
    "    opt=optim.Adam(model.parameters(),lr)\n",
    "    l=0.70\n",
    "    for e in range(1000):\n",
    "        for sample,label in loader:\n",
    "            opt.zero_grad()\n",
    "            out=model(sample)\n",
    "            loss=F.cross_entropy(out,label)\n",
    "            loss.backward()\n",
    "            l=l*0.9+loss.item()*0.1\n",
    "            opt.step()\n",
    "        if print_loss:\n",
    "            print('loss=%.5f'%l)\n",
    "        if l<=limit:\n",
    "            print('Loss limit reached %.5f'%l)\n",
    "            return True\n",
    "            \n",
    "    print('Loss limit not reached %.5f'%l)\n",
    "    return False"
   ]
  },
  {
   "cell_type": "code",
   "execution_count": 19,
   "id": "0a2d6093",
   "metadata": {
    "scrolled": true
   },
   "outputs": [],
   "source": [
    "depth=8\n",
    "classifier=classifierNN(depth)"
   ]
  },
  {
   "cell_type": "code",
   "execution_count": 20,
   "id": "bcb3b1ab",
   "metadata": {},
   "outputs": [
    {
     "name": "stdout",
     "output_type": "stream",
     "text": [
      "Loss limit reached 0.00986\n"
     ]
    },
    {
     "data": {
      "text/plain": [
       "True"
      ]
     },
     "execution_count": 20,
     "metadata": {},
     "output_type": "execute_result"
    }
   ],
   "source": [
    "train(classifier,setloader)"
   ]
  },
  {
   "cell_type": "code",
   "execution_count": 10,
   "id": "de634f88",
   "metadata": {},
   "outputs": [],
   "source": [
    "# calculate the softmax prediction value map in an area define by xp&yp\n",
    "def p_map(xp,yp,model,label=0):\n",
    "    nx=len(xp)\n",
    "    ny=len(yp)\n",
    "    gridpoints=torch.ones((ny,nx*2),dtype=torch.float32)\n",
    "    gridpoints[:,0::2]*=xp.reshape(1,-1)\n",
    "    gridpoints[:,1::2]*=yp.reshape(-1,1)\n",
    "    gridlistview=gridpoints.view(-1,2)\n",
    "    with torch.no_grad():\n",
    "        l=F.softmax(model(gridlistview),dim=1)[:,label]\n",
    "    return l.view(ny,nx)"
   ]
  },
  {
   "cell_type": "code",
   "execution_count": 11,
   "id": "7894c1f5",
   "metadata": {},
   "outputs": [],
   "source": [
    "nx=200\n",
    "ny=200\n",
    "x=np.linspace(-1,2.5,nx)\n",
    "y=np.linspace(-1,2,ny)\n",
    "p0=p_map(x,y,classifier).numpy()"
   ]
  },
  {
   "cell_type": "code",
   "execution_count": 21,
   "id": "c53e1f5f",
   "metadata": {},
   "outputs": [
    {
     "data": {
      "image/png": "[encoded data removed]",
      "text/plain": [
       "<Figure size 288x288 with 1 Axes>"
      ]
     },
     "metadata": {
      "needs_background": "light"
     },
     "output_type": "display_data"
    }
   ],
   "source": [
    "decision_boundary_fig=plt.figure(figsize=(4,4))\n",
    "con=plt.contour(x,y,p0,[0.5],colors='black')\n",
    "plt.clabel(con,inline=True,fontsize=10)\n",
    "sc1=plt.scatter(l1[0],l1[1],label='0')\n",
    "plt.scatter(l2[0],l2[1],marker='v',label='1')\n",
    "plt.legend()\n",
    "plt.xlabel('x')\n",
    "plt.ylabel('y')\n",
    "plt.axis('equal')\n",
    "plt.title('DecisionBoundary&SampleGradient depth=%d'%depth)\n",
    "plt.show()"
   ]
  },
  {
   "cell_type": "code",
   "execution_count": 22,
   "id": "72b78ced",
   "metadata": {},
   "outputs": [],
   "source": [
    "# compute the sample gradient\n",
    "grads=torch.zeros_like(dataset.sample)\n",
    "for t,(s,l) in enumerate(dataset):\n",
    "    s=s.clone().detach().requires_grad_(True)\n",
    "    p=F.softmax(classifier(s),dim=0)[l]\n",
    "    p.backward()\n",
    "    grads[t]=-s.grad"
   ]
  },
  {
   "cell_type": "code",
   "execution_count": 23,
   "id": "847d55aa",
   "metadata": {
    "scrolled": false
   },
   "outputs": [
    {
     "data": {
      "image/png": "[encoded data removed]",
      "text/plain": [
       "<Figure size 288x288 with 1 Axes>"
      ]
     },
     "execution_count": 23,
     "metadata": {},
     "output_type": "execute_result"
    }
   ],
   "source": [
    "# visualize the sample gradient\n",
    "samples=dataset.sample\n",
    "x_=samples[:,0]\n",
    "y_=samples[:,1]\n",
    "u=grads[:,0]\n",
    "v=grads[:,1]\n",
    "\n",
    "ax=decision_boundary_fig.axes\n",
    "ax[0].quiver(x_,y_,u,v,angles='xy',scale_units='xy',scale=0.5,color='r')\n",
    "decision_boundary_fig"
   ]
  }
 ],
 "metadata": {
  "kernelspec": {
   "display_name": "Python 3 (ipykernel)",
   "language": "python",
   "name": "python3"
  },
  "language_info": {
   "codemirror_mode": {
    "name": "ipython",
    "version": 3
   },
   "file_extension": ".py",
   "mimetype": "text/x-python",
   "name": "python",
   "nbconvert_exporter": "python",
   "pygments_lexer": "ipython3",
   "version": "3.9.7"
  }
 },
 "nbformat": 4,
 "nbformat_minor": 5
}
